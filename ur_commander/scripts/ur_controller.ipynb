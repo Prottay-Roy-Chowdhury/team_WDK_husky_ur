{
 "cells": [
  {
   "cell_type": "code",
   "execution_count": 1,
   "metadata": {},
   "outputs": [
    {
     "name": "stdout",
     "output_type": "stream",
     "text": [
      "0.4\n"
     ]
    }
   ],
   "source": [
    "from threading import Thread\n",
    "from math import pi\n",
    "\n",
    "import rclpy\n",
    "from rclpy.callback_groups import ReentrantCallbackGroup\n",
    "from rclpy.node import Node\n",
    "\n",
    "from pymoveit2 import MoveIt2\n",
    "from pymoveit2.robots import ur\n",
    "\n",
    "from geometry_msgs.msg import Pose, Quaternion, Point\n",
    "import rclpy.wait_for_message\n",
    "from ur_msgs.srv import SetIO\n",
    "from ur_commander.srv import VisualizePoses\n",
    "\n",
    "import numpy as np\n",
    "from tf_transformations import quaternion_multiply, quaternion_from_euler\n",
    "from geometry_msgs.msg import PoseStamped, Pose, Point, Quaternion\n",
    "from scipy.spatial.transform import Rotation\n",
    "\n",
    "rclpy.init()\n",
    "\n",
    "# Create node for this example\n",
    "node = Node(\"notebook_example\")\n",
    "callback_group = ReentrantCallbackGroup()\n",
    "\n",
    "\n",
    "def display_poses(poses: list[Pose], frame_id: str = \"base_link\") -> None:\n",
    "    client = node.create_client(VisualizePoses, \"/visualize_poses\")\n",
    "    while not client.wait_for_service(timeout_sec=1.0):\n",
    "        node.get_logger().info(\"service not available, waiting again...\")\n",
    "    client.call(VisualizePoses.Request(poses=poses, frame_id=frame_id))\n",
    "\n",
    "\n",
    "moveit2 = MoveIt2(\n",
    "    node=node,\n",
    "    joint_names=ur.joint_names(),\n",
    "    base_link_name=ur.base_link_name(),\n",
    "    end_effector_name=ur.end_effector_name(),\n",
    "    group_name=ur.MOVE_GROUP_ARM,\n",
    "    callback_group=callback_group,\n",
    ")\n",
    "\n",
    "# Spin the node in background thread(s) and wait a bit for initialization\n",
    "executor = rclpy.executors.MultiThreadedExecutor(2)\n",
    "executor.add_node(node)\n",
    "executor_thread = Thread(target=executor.spin, daemon=True, args=())\n",
    "executor_thread.start()\n",
    "node.create_rate(1.0).sleep()\n",
    "\n",
    "# Scale down velocity and acceleration of joints (percentage of maximum)\n",
    "moveit2.max_velocity = 0.1\n",
    "moveit2.max_acceleration = 0.1\n",
    "synchronous = True\n",
    "cancel_after_secs = 0.0\n",
    "cartesian = False\n",
    "cartesian_max_step = 0.0025\n",
    "cartesian_fraction_threshold = 0.0\n",
    "cartesian_jump_threshold = 0.0\n",
    "cartesian_avoid_collisions = False\n",
    "moveit2.planner_id = \"PTP\"\n",
    "\n",
    "# # Add collision objects\n",
    "# moveit2.add_collision_box(\n",
    "#     id=\"table\",\n",
    "#     size=[2.0, 1.0, 0.05],\n",
    "#     position=[0.0, 0.0, -0.025],\n",
    "#     quat_xyzw=[0.0, 0.0, 0.0, 0.0],\n",
    "# )\n",
    "\n",
    "\n",
    "husky_size = {\"x\":0.99, \"y\":0.67, \"z\":0.39}\n",
    "boxes = [{\"x\":0.3, \"y\":0.3, \"z\":0.3},{\"x\":0.4, \"y\":0.4, \"z\":0.4},{\"x\":0.5, \"y\":0.5, \"z\":0.5}]\n",
    "\n",
    "print(boxes[1][\"x\"])\n"
   ]
  },
  {
   "cell_type": "markdown",
   "metadata": {},
   "source": [
    "**Define a Target Pose**    \n",
    "\n",
    "Display the pose"
   ]
  },
  {
   "cell_type": "code",
   "execution_count": 2,
   "metadata": {},
   "outputs": [
    {
     "name": "stderr",
     "output_type": "stream",
     "text": [
      "[INFO] [1741709835.913718186] [notebook_example]: Move to target geometry_msgs.msg.Pose(position=geometry_msgs.msg.Point(x=0.5, y=0.3, z=0.7), orientation=geometry_msgs.msg.Quaternion(x=-0.7071067811865475, y=0.0, z=0.0, w=0.7071067811865476))\n"
     ]
    },
    {
     "name": "stdout",
     "output_type": "stream",
     "text": [
      "True\n"
     ]
    }
   ],
   "source": [
    "home = Pose()\n",
    "\n",
    "home.position.x = 0.5\n",
    "home.position.y = 0.3\n",
    "home.position.z = 0.7\n",
    "\n",
    "h = quaternion_from_euler(-pi/2, 0, 0) \n",
    "\n",
    "home.orientation.x = h[0]\n",
    "home.orientation.y = h[1]\n",
    "home.orientation.z = h[2]\n",
    "home.orientation.w = h[3]\n",
    "\n",
    "display_poses([home])\n",
    "\n",
    "traj = moveit2.move_to_pose(\n",
    "                    position=home.position,\n",
    "                    quat_xyzw=home.orientation,\n",
    "                    cartesian=cartesian,\n",
    "                    cartesian_max_step=cartesian_max_step,\n",
    "                    cartesian_fraction_threshold=cartesian_fraction_threshold,\n",
    "                )\n",
    "\n",
    "if traj is not None:\n",
    "    node.get_logger().info(f\"Move to target {home}\")\n",
    "    moveit2.execute(traj)\n",
    "    success = moveit2.wait_until_executed()\n",
    "    print(success)"
   ]
  },
  {
   "cell_type": "code",
   "execution_count": 5,
   "metadata": {},
   "outputs": [
    {
     "name": "stdout",
     "output_type": "stream",
     "text": [
      "0.44999999999999996\n",
      "geometry_msgs.msg.Point(x=0.44999999999999996, y=-0.25, z=-0.09000000000000001)\n"
     ]
    }
   ],
   "source": [
    "box_location = Pose()\n",
    "\n",
    "box_location.position.x = boxes[0][\"x\"]/2 + 0.3\n",
    "box_location.position.y = 0.0\n",
    "box_location.position.z = -husky_size[\"z\"] + boxes[0][\"z\"]/2 + 0.1\n",
    "\n",
    "b1 = quaternion_from_euler(-pi/2, 0.0, 0.0)\n",
    "\n",
    "box_location.orientation.x = b1[0]\n",
    "box_location.orientation.y = b1[1]\n",
    "box_location.orientation.z = b1[2]\n",
    "box_location.orientation.w = b1[3]\n",
    "\n",
    "\n",
    "print(box_location.position.x)\n",
    "\n",
    "\n",
    "\n",
    "moveit2.add_collision_box(\n",
    "    id=\"box\",\n",
    "    size=[boxes[0][\"x\"], boxes[0][\"y\"], boxes[0][\"z\"]],\n",
    "    position=box_location.position,\n",
    "    quat_xyzw=box_location.orientation,\n",
    ")\n",
    "\n",
    "\n",
    "start = Pose()\n",
    "\n",
    "start.position.x = box_location.position.x\n",
    "start.position.y = -(box_location.position.y + boxes[0][\"y\"]/2 + 0.1)\n",
    "start.position.z = box_location.position.z + 0.05\n",
    "\n",
    "start.orientation = box_location.orientation\n",
    "\n",
    "\n",
    "approch = Pose()\n",
    "\n",
    "approch.position.x = start.position.x \n",
    "approch.position.y = start.position.y\n",
    "approch.position.z = start.position.z + 0.3\n",
    "\n",
    "approch.orientation = start.orientation\n",
    "\n",
    "\n",
    "stop = Pose()\n",
    "\n",
    "stop.position.x = box_location.position.x\n",
    "stop.position.y = box_location.position.y + husky_size[\"y\"]/2 + 0.1\n",
    "stop.position.z = box_location.position.z + 0.05\n",
    "\n",
    "stop.orientation = start.orientation\n",
    "\n",
    "safe_stop = Pose()\n",
    "\n",
    "safe_stop.position.x = stop.position.x\n",
    "safe_stop.position.y = stop.position.y\n",
    "safe_stop.position.z = stop.position.z + 0.3\n",
    "\n",
    "safe_stop.orientation = stop.orientation\n",
    "\n",
    "\n",
    "\n",
    "print(start.position)\n",
    "display_poses([box_location, home, approch, start, stop, safe_stop])\n",
    "targets = [approch, start, stop, safe_stop, home]\n",
    "current_task = 0\n",
    "\n"
   ]
  },
  {
   "cell_type": "code",
   "execution_count": 4,
   "metadata": {},
   "outputs": [
    {
     "name": "stderr",
     "output_type": "stream",
     "text": [
      "[INFO] [1741709858.077720878] [notebook_example]: Move to target 0\n"
     ]
    },
    {
     "name": "stdout",
     "output_type": "stream",
     "text": [
      "True\n"
     ]
    },
    {
     "name": "stderr",
     "output_type": "stream",
     "text": [
      "[INFO] [1741709863.712781474] [notebook_example]: Move to target 1\n"
     ]
    },
    {
     "name": "stdout",
     "output_type": "stream",
     "text": [
      "True\n"
     ]
    },
    {
     "name": "stderr",
     "output_type": "stream",
     "text": [
      "[INFO] [1741709866.845065095] [notebook_example]: Move to target 2\n"
     ]
    },
    {
     "name": "stdout",
     "output_type": "stream",
     "text": [
      "True\n"
     ]
    },
    {
     "name": "stderr",
     "output_type": "stream",
     "text": [
      "[INFO] [1741709873.727417310] [notebook_example]: Move to target 3\n"
     ]
    },
    {
     "name": "stdout",
     "output_type": "stream",
     "text": [
      "True\n"
     ]
    },
    {
     "name": "stderr",
     "output_type": "stream",
     "text": [
      "[INFO] [1741709876.961721629] [notebook_example]: Move to target 4\n"
     ]
    },
    {
     "name": "stdout",
     "output_type": "stream",
     "text": [
      "True\n"
     ]
    }
   ],
   "source": [
    "for k in targets:\n",
    "\n",
    "    if current_task == 2:\n",
    "        moveit2.remove_collision_object(\"box\")\n",
    "\n",
    "    traj = moveit2.move_to_pose(\n",
    "        position=k.position,\n",
    "        quat_xyzw=k.orientation,\n",
    "        cartesian=cartesian,\n",
    "        cartesian_max_step=cartesian_max_step,\n",
    "        cartesian_fraction_threshold=cartesian_fraction_threshold,\n",
    "    )\n",
    "\n",
    "    if traj is not None:\n",
    "        node.get_logger().info(f\"Move to target {current_task}\")\n",
    "        moveit2.execute(traj)\n",
    "        success = moveit2.wait_until_executed()\n",
    "        print(success)\n",
    "        current_task += 1\n",
    "        \n",
    "    if current_task == len(targets):\n",
    "        current_task = 0\n",
    "        break"
   ]
  },
  {
   "cell_type": "code",
   "execution_count": 4,
   "metadata": {},
   "outputs": [
    {
     "ename": "NameError",
     "evalue": "name 'target' is not defined",
     "output_type": "error",
     "traceback": [
      "\u001b[0;31m---------------------------------------------------------------------------\u001b[0m",
      "\u001b[0;31mNameError\u001b[0m                                 Traceback (most recent call last)",
      "Cell \u001b[0;32mIn[4], line 9\u001b[0m\n\u001b[1;32m      3\u001b[0m width\u001b[38;5;241m=\u001b[39m \u001b[38;5;241m0.030\u001b[39m\n\u001b[1;32m      4\u001b[0m height\u001b[38;5;241m=\u001b[39m \u001b[38;5;241m0.018\u001b[39m\n\u001b[1;32m      6\u001b[0m moveit2\u001b[38;5;241m.\u001b[39madd_collision_box(\n\u001b[1;32m      7\u001b[0m     \u001b[38;5;28mid\u001b[39m\u001b[38;5;241m=\u001b[39m\u001b[38;5;124m\"\u001b[39m\u001b[38;5;124mobject\u001b[39m\u001b[38;5;124m\"\u001b[39m,\n\u001b[1;32m      8\u001b[0m     size\u001b[38;5;241m=\u001b[39m[length, width, height],\n\u001b[0;32m----> 9\u001b[0m     position\u001b[38;5;241m=\u001b[39m[\u001b[43mtarget\u001b[49m\u001b[38;5;241m.\u001b[39mposition\u001b[38;5;241m.\u001b[39mx, target\u001b[38;5;241m.\u001b[39mposition\u001b[38;5;241m.\u001b[39my, (target\u001b[38;5;241m.\u001b[39mposition\u001b[38;5;241m.\u001b[39mz \u001b[38;5;241m-\u001b[39m height\u001b[38;5;241m/\u001b[39m\u001b[38;5;241m2\u001b[39m)],\n\u001b[1;32m     10\u001b[0m     quat_xyzw\u001b[38;5;241m=\u001b[39mtarget\u001b[38;5;241m.\u001b[39morientation,\n\u001b[1;32m     11\u001b[0m )\n",
      "\u001b[0;31mNameError\u001b[0m: name 'target' is not defined"
     ]
    }
   ],
   "source": [
    "# Add collision objects\n",
    "length= 0.070\n",
    "width= 0.030\n",
    "height= 0.018\n",
    "\n",
    "moveit2.add_collision_box(\n",
    "    id=\"object\",\n",
    "    size=[length, width, height],\n",
    "    position=[target.position.x, target.position.y, (target.position.z - height/2)],\n",
    "    quat_xyzw=target.orientation,\n",
    ")\n"
   ]
  },
  {
   "cell_type": "code",
   "execution_count": null,
   "metadata": {},
   "outputs": [],
   "source": [
    "approach_target = Pose(\n",
    "    position=Point(\n",
    "            x=pose_subscriber.latest_pose.position.x,\n",
    "            y=pose_subscriber.latest_pose.position.y,\n",
    "            z=pose_subscriber.latest_pose.position.z + 0.2\n",
    "        ),\n",
    "    orientation=target.orientation\n",
    "        )\n",
    "if approach_target is not None:\n",
    "    display_poses([approach_target])"
   ]
  },
  {
   "cell_type": "markdown",
   "metadata": {},
   "source": [
    "Plan a trajectory"
   ]
  },
  {
   "cell_type": "code",
   "execution_count": null,
   "metadata": {},
   "outputs": [],
   "source": [
    "position = approach_target.position\n",
    "quat_xyzw = approach_target .orientation\n",
    "\n",
    "\n",
    "node.get_logger().info(f\"Moving to approach_target\")\n",
    "traj = moveit2.move_to_pose(\n",
    "    position=position,\n",
    "    quat_xyzw=quat_xyzw,\n",
    "    cartesian=True,\n",
    "    cartesian_max_step=cartesian_max_step,\n",
    "    cartesian_fraction_threshold=cartesian_fraction_threshold,\n",
    ")"
   ]
  },
  {
   "cell_type": "markdown",
   "metadata": {},
   "source": [
    "Execute the trajectory"
   ]
  },
  {
   "cell_type": "code",
   "execution_count": null,
   "metadata": {},
   "outputs": [],
   "source": [
    "moveit2.execute(traj)\n",
    "success = moveit2.wait_until_executed()\n",
    "if not success:\n",
    "    node.get_logger().error(\"Failed to execute trajectory\")"
   ]
  },
  {
   "cell_type": "code",
   "execution_count": null,
   "metadata": {},
   "outputs": [],
   "source": [
    "position = [target.position.x, target.position.y, target.position.z]\n",
    "quat_xyzw = [target.orientation.x, target.orientation.y, target.orientation.z, target.orientation.w]\n",
    "\n",
    "\n",
    "node.get_logger().info(f\"Moving to {{position: {list(position)}, quat_xyzw: {list(quat_xyzw)}}}\")\n",
    "traj = moveit2.move_to_pose(\n",
    "    position=position,\n",
    "    quat_xyzw=quat_xyzw,\n",
    "    cartesian=True,\n",
    "    cartesian_max_step=cartesian_max_step,\n",
    "    cartesian_fraction_threshold=cartesian_fraction_threshold,\n",
    ")"
   ]
  },
  {
   "cell_type": "code",
   "execution_count": null,
   "metadata": {},
   "outputs": [],
   "source": [
    "moveit2.execute(traj)\n",
    "success = moveit2.wait_until_executed()\n",
    "if not success:\n",
    "    node.get_logger().error(\"Failed to execute trajectory\")"
   ]
  },
  {
   "cell_type": "code",
   "execution_count": null,
   "metadata": {},
   "outputs": [],
   "source": [
    "safe_out = Pose(\n",
    "    position=Point(\n",
    "            x=pose_subscriber.latest_pose.position.x,\n",
    "            y=pose_subscriber.latest_pose.position.y,\n",
    "            z=pose_subscriber.latest_pose.position.z + 0.2\n",
    "        ),\n",
    "    orientation=target.orientation\n",
    "        )\n",
    "if approach_target is not None:\n",
    "    display_poses([approach_target])"
   ]
  },
  {
   "cell_type": "code",
   "execution_count": null,
   "metadata": {},
   "outputs": [],
   "source": [
    "position = approach_target.position\n",
    "quat_xyzw = approach_target .orientation\n",
    "\n",
    "\n",
    "node.get_logger().info(f\"Moving to safe_out\")\n",
    "traj = moveit2.move_to_pose(\n",
    "    position=position,\n",
    "    quat_xyzw=quat_xyzw,\n",
    "    cartesian=True,\n",
    "    cartesian_max_step=cartesian_max_step,\n",
    "    cartesian_fraction_threshold=cartesian_fraction_threshold,\n",
    ")\n"
   ]
  },
  {
   "cell_type": "code",
   "execution_count": null,
   "metadata": {},
   "outputs": [],
   "source": [
    "moveit2.execute(traj)\n",
    "success = moveit2.wait_until_executed()\n",
    "if not success:\n",
    "    node.get_logger().error(\"Failed to execute trajectory\")"
   ]
  },
  {
   "cell_type": "code",
   "execution_count": null,
   "metadata": {},
   "outputs": [],
   "source": [
    "\n",
    "place_palne = Pose(position=Point(x=0.3, y=0.3, z=(height/2)),\n",
    "                   orientation=target.orientation)\n",
    "display_poses([place_palne])\n"
   ]
  }
 ],
 "metadata": {
  "kernelspec": {
   "display_name": "Python 3",
   "language": "python",
   "name": "python3"
  },
  "language_info": {
   "codemirror_mode": {
    "name": "ipython",
    "version": 3
   },
   "file_extension": ".py",
   "mimetype": "text/x-python",
   "name": "python",
   "nbconvert_exporter": "python",
   "pygments_lexer": "ipython3",
   "version": "3.10.12"
  }
 },
 "nbformat": 4,
 "nbformat_minor": 2
}
